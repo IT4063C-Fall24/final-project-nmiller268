{
 "cells": [
  {
   "attachments": {},
   "cell_type": "markdown",
   "metadata": {},
   "source": [
    "# Gender Pay Gap in Data📝\n",
    "\n",
    "![Banner](./assets/banner.jpeg)"
   ]
  },
  {
   "attachments": {},
   "cell_type": "markdown",
   "metadata": {},
   "source": [
    "## Topic\n",
    "*What problem are you (or your stakeholder) trying to address?*\n",
    "📝 <!-- Answer Below -->\n",
    "The problem that I am trying to address is that women are making less than men within the tech industry."
   ]
  },
  {
   "attachments": {},
   "cell_type": "markdown",
   "metadata": {},
   "source": [
    "## Project Question\n",
    "*What specific question are you seeking to answer with this project?*\n",
    "*This is not the same as the questions you ask to limit the scope of the project.*\n",
    "📝 <!-- Answer Below -->\n",
    "\n",
    "The question I am seeking to answer is if the statment is true that women are getting paid less and why that is. Also see if there any other factors of why this could be. I would like to also figure out a solution on how to address the problem."
   ]
  },
  {
   "attachments": {},
   "cell_type": "markdown",
   "metadata": {},
   "source": [
    "## What would an answer look like?\n",
    "*What is your hypothesized answer to your question?*\n",
    "📝 <!-- Answer Below -->\n",
    "\n",
    "There will be a large gap of what a women is getting paid compare to male counterparts. I believe women in the same industry with the same titles will be making less. I think there will be some variables such as city that could play a role. "
   ]
  },
  {
   "attachments": {},
   "cell_type": "markdown",
   "metadata": {},
   "source": [
    "## Data Sources\n",
    "*What 3 data sources have you identified for this project?*\n",
    "*How are you going to relate these datasets?*\n",
    "📝 <!-- Answer Below -->\n",
    "https://www.census.gov/library/visualizations/interactive/gender-pay-gap.html \n",
    "https://www.kaggle.com/datasets/nilimajauhari/glassdoor-analyze-gender-pay-gap \n",
    "https://www.kaggle.com/code/dulciejackson/gender-pay-gap-data-investigation \n",
    "I will relate these datasets by using powerbi to combine information that will correalte such as companies, states, salary and things of that nature. "
   ]
  },
  {
   "attachments": {},
   "cell_type": "markdown",
   "metadata": {},
   "source": [
    "## Approach and Analysis\n",
    "*What is your approach to answering your project question?*\n",
    "*How will you use the identified data to answer your project question?*\n",
    "📝 <!-- Start Discussing the project here; you can add as many code cells as you need -->"
   ]
  },
  {
   "cell_type": "code",
   "execution_count": null,
   "metadata": {},
   "outputs": [],
   "source": [
    "# Start your code here\n",
    "What I plan on doing is first investing the data and getting rid of any data that isnt needed. My main appraoch is \n",
    "using correlations with titles first and comparing that to the slaaries. Next I will use states that also see the correlation. "
   ]
  },
  {
   "cell_type": "code",
   "execution_count": 8,
   "metadata": {},
   "outputs": [],
   "source": [
    "# Load the data\n",
    "df = pd.read_csv('Glassdoor Gender Pay Gap.csv', encoding='ascii')"
   ]
  },
  {
   "cell_type": "code",
   "execution_count": null,
   "metadata": {},
   "outputs": [],
   "source": [
    "%pip uninstall -y matplotlib\n",
    "%pip install matplotlib==3.5.2\n",
    "import pandas as pd\n",
    "import numpy as np\n",
    "import matplotlib.pyplot as plt\n",
    "\n",
    "# Load the data\n",
    "df = pd.read_csv('Glassdoor Gender Pay Gap.csv', encoding='ascii')\n",
    "\n",
    "# 1. Box plot for Base Pay\n",
    "plt.figure(figsize=(10, 6))\n",
    "df.boxplot(column='BasePay')\n",
    "plt.title('Base Pay Distribution (Box Plot)')\n",
    "plt.ylabel('Base Pay')\n",
    "plt.show()\n",
    "\n",
    "# 2. Scatter plot of Age vs Base Pay\n",
    "plt.figure(figsize=(10, 6))\n",
    "colors = {'Male': 'blue', 'Female': 'red'}\n",
    "for gender in ['Male', 'Female']:\n",
    "    mask = df['Gender'] == gender\n",
    "    plt.scatter(df[mask]['Age'], df[mask]['BasePay'], \n",
    "               c=colors[gender], label=gender, alpha=0.5)\n",
    "plt.xlabel('Age')\n",
    "plt.ylabel('Base Pay')\n",
    "plt.title('Age vs Base Pay by Gender')\n",
    "plt.legend()\n",
    "plt.show()\n",
    "\n",
    "# 3. Bar plot of average Base Pay by Department\n",
    "dept_pay = df.groupby('Dept')['BasePay'].mean().sort_values(ascending=True)\n",
    "plt.figure(figsize=(12, 6))\n",
    "dept_pay.plot(kind='bar')\n",
    "plt.title('Average Base Pay by Department')\n",
    "plt.xlabel('Department')\n",
    "plt.ylabel('Average Base Pay')\n",
    "plt.xticks(rotation=45)\n",
    "plt.tight_layout()\n",
    "plt.show()\n",
    "\n",
    "# 4. Bar plot of average Base Pay by Education and Gender\n",
    "edu_gender_pay = df.groupby(['Education', 'Gender'])['BasePay'].mean().unstack()\n",
    "plt.figure(figsize=(10, 6))\n",
    "edu_gender_pay.plot(kind='bar', width=0.8)\n",
    "plt.title('Average Base Pay by Education Level and Gender')\n",
    "plt.xlabel('Education Level')\n",
    "plt.ylabel('Average Base Pay')\n",
    "plt.legend(title='Gender')\n",
    "plt.xticks(rotation=45)\n",
    "plt.tight_layout()\n",
    "plt.show()\n",
    "\n",
    "# Print summary statistics\n",
    "print(\"\\\n",
    "Summary Statistics for Base Pay:\")\n",
    "print(df['BasePay'].describe())\n",
    "\n",
    "print(\"\\\n",
    "Missing Values:\")\n",
    "print(df.isnull().sum())\n",
    "\n",
    "print(\"\\\n",
    "Duplicate Rows:\", df.duplicated().sum())"
   ]
  },
  {
   "cell_type": "code",
   "execution_count": null,
   "metadata": {},
   "outputs": [],
   "source": [
    "#Base Pay Distribution (Box Plot): The box plot for Base Pay shows a wide range of salaries with a median around $93,327.5. The presence of outliers indicates that some employees earn significantly more than the typical range, which could be due to high-level positions or exceptional performance.\n",
    "\n",
    "#Age vs Base Pay by Gender (Scatter Plot): The scatter plot reveals a positive correlation between age and base pay, suggesting that more experienced employees tend to earn higher salaries. Additionally, there is a noticeable gender pay gap, with males generally earning more than females across different age groups.\n",
    "\n",
    "#Average Base Pay by Department (Bar Plot): The bar plot indicates that the Sales department has the highest average base pay, followed closely by Management and Engineering. This suggests that roles in these departments are valued more highly, possibly due to their direct impact on company revenue and innovation.\n",
    "\n",
    "#Average Base Pay by Education Level and Gender (Bar Plot): The bar plot highlights that higher education levels, such as a PhD or Master's degree, are associated with higher average base pay. However, a gender pay gap persists across all education levels, with males earning more than females, particularly at the College and PhD levels."
   ]
  },
  {
   "cell_type": "code",
   "execution_count": null,
   "metadata": {},
   "outputs": [],
   "source": [
    "#The data cleaning process revealed no missing values or duplicate rows, and the data types were appropriate for analysis. Therefore, no further cleaning was necessary, and the data was ready for analysis. Here are the details:\n",
    "\n",
    "#Missing Values: There were no missing values in the dataset, ensuring completeness for analysis.\n",
    "#Duplicate Rows: No duplicate rows were found, indicating unique entries for each record.\n",
    "#Data Types: All columns had appropriate data types, with numerical columns as integers and categorical columns as objects."
   ]
  },
  {
   "attachments": {},
   "cell_type": "markdown",
   "metadata": {},
   "source": [
    "## Resources and References\n",
    "*What resources and references have you used for this project?*\n",
    "📝 <!-- Answer Below -->"
   ]
  },
  {
   "cell_type": "code",
   "execution_count": null,
   "metadata": {},
   "outputs": [],
   "source": [
    "# ⚠️ Make sure you run this cell at the end of your notebook before every submission!\n",
    "https://www.dice.com/career-advice/beyond-the-numbers-unveiling-the-factors-behind-the-gender-pay-gap-in-tech \n",
    "https://www.cio.com/article/201905/women-in-tech-statistics-the-hard-truths-of-an-uphill-battle.html \n",
    "https://www.dol.gov/sites/dolgov/files/WB/media/WB_Gender-Based-Pay-Disparity-Study_4-6-21.pdf\n",
    "https://www.ncbi.nlm.nih.gov/pmc/articles/PMC10615266/ \n",
    "!jupyter nbconvert --to python source.ipynb"
   ]
  }
 ],
 "metadata": {
  "kernelspec": {
   "display_name": "Final-Project-Template-unx06iZ2",
   "language": "python",
   "name": "python3"
  },
  "language_info": {
   "codemirror_mode": {
    "name": "ipython",
    "version": 3
   },
   "file_extension": ".py",
   "mimetype": "text/x-python",
   "name": "python",
   "nbconvert_exporter": "python",
   "pygments_lexer": "ipython3",
   "version": "3.11.9"
  },
  "orig_nbformat": 4,
  "vscode": {
   "interpreter": {
    "hash": "8f59090b806211711d8ea6da25ee5b1ccb272a75a21b9536283520350d8dfda7"
   }
  }
 },
 "nbformat": 4,
 "nbformat_minor": 2
}
