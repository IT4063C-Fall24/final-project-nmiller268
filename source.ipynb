{
 "cells": [
  {
   "attachments": {},
   "cell_type": "markdown",
   "metadata": {},
   "source": [
    "# Gender Pay Gap in Data📝\n",
    "\n",
    "![Banner](./assets/banner.jpeg)"
   ]
  },
  {
   "attachments": {},
   "cell_type": "markdown",
   "metadata": {},
   "source": [
    "## Topic\n",
    "*What problem are you (or your stakeholder) trying to address?*\n",
    "📝 <!-- Answer Below -->\n",
    "The problem that I am trying to address is that women are making less than men within the tech industry."
   ]
  },
  {
   "attachments": {},
   "cell_type": "markdown",
   "metadata": {},
   "source": [
    "## Project Question\n",
    "*What specific question are you seeking to answer with this project?*\n",
    "*This is not the same as the questions you ask to limit the scope of the project.*\n",
    "📝 <!-- Answer Below -->\n",
    "\n",
    "The question I am seeking to answer is if the statment is true that women are getting paid less and why that is. Also see if there any other factors of why this could be. I would like to also figure out a solution on how to address the problem."
   ]
  },
  {
   "attachments": {},
   "cell_type": "markdown",
   "metadata": {},
   "source": [
    "## What would an answer look like?\n",
    "*What is your hypothesized answer to your question?*\n",
    "📝 <!-- Answer Below -->\n",
    "\n",
    "There will be a large gap of what a women is getting paid compare to male counterparts. I believe women in the same industry with the same titles will be making less. I think there will be some variables such as city that could play a role. "
   ]
  },
  {
   "attachments": {},
   "cell_type": "markdown",
   "metadata": {},
   "source": [
    "## Data Sources\n",
    "*What 3 data sources have you identified for this project?*\n",
    "*How are you going to relate these datasets?*\n",
    "📝 <!-- Answer Below -->\n",
    "https://www.census.gov/library/visualizations/interactive/gender-pay-gap.html \n",
    "https://www.kaggle.com/datasets/nilimajauhari/glassdoor-analyze-gender-pay-gap \n",
    "https://www.kaggle.com/code/dulciejackson/gender-pay-gap-data-investigation \n",
    "I will relate these datasets by using powerbi to combine information that will correalte such as companies, states, salary and things of that nature. "
   ]
  },
  {
   "attachments": {},
   "cell_type": "markdown",
   "metadata": {},
   "source": [
    "## Approach and Analysis\n",
    "*What is your approach to answering your project question?*\n",
    "*How will you use the identified data to answer your project question?*\n",
    "📝 <!-- Start Discussing the project here; you can add as many code cells as you need -->"
   ]
  },
  {
   "cell_type": "code",
   "execution_count": 1,
   "metadata": {},
   "outputs": [],
   "source": [
    "# Start your code here\n",
    "\n",
    "What I plan on doing is first investing the data and getting rid of any data that isnt needed. My main appraoch is \n",
    "using correlations with titles first and comparing that to the slaaries. Next I will use states that also see the correlation. "
   ]
  },
  {
   "attachments": {},
   "cell_type": "markdown",
   "metadata": {},
   "source": [
    "## Resources and References\n",
    "*What resources and references have you used for this project?*\n",
    "📝 <!-- Answer Below -->"
   ]
  },
  {
   "cell_type": "code",
   "execution_count": 1,
   "metadata": {},
   "outputs": [
    {
     "ename": "SyntaxError",
     "evalue": "invalid decimal literal (1081987067.py, line 4)",
     "output_type": "error",
     "traceback": [
      "\u001b[1;36m  Cell \u001b[1;32mIn[1], line 4\u001b[1;36m\u001b[0m\n\u001b[1;33m    https://www.dol.gov/sites/dolgov/files/WB/media/WB_Gender-Based-Pay-Disparity-Study_4-6-21.pdf#:~:text=gender%20wage%20gap%20was%2017.4%20percent%20at%20the%20mean%20and\u001b[0m\n\u001b[1;37m                                                                                              ^\u001b[0m\n\u001b[1;31mSyntaxError\u001b[0m\u001b[1;31m:\u001b[0m invalid decimal literal\n"
     ]
    }
   ],
   "source": [
    "# ⚠️ Make sure you run this cell at the end of your notebook before every submission!\n",
    "https://www.dice.com/career-advice/beyond-the-numbers-unveiling-the-factors-behind-the-gender-pay-gap-in-tech \n",
    "https://www.cio.com/article/201905/women-in-tech-statistics-the-hard-truths-of-an-uphill-battle.html \n",
    "https://www.dol.gov/sites/dolgov/files/WB/media/WB_Gender-Based-Pay-Disparity-Study_4-6-21.pdf#:~:text=gender%20wage%20gap%20was%2017.4%20percent%20at%20the%20mean%20and \n",
    "https://www.ncbi.nlm.nih.gov/pmc/articles/PMC10615266/ \n",
    "!jupyter nbconvert --to python source.ipynb"
   ]
  }
 ],
 "metadata": {
  "kernelspec": {
   "display_name": "Final-Project-Template-unx06iZ2",
   "language": "python",
   "name": "python3"
  },
  "language_info": {
   "codemirror_mode": {
    "name": "ipython",
    "version": 3
   },
   "file_extension": ".py",
   "mimetype": "text/x-python",
   "name": "python",
   "nbconvert_exporter": "python",
   "pygments_lexer": "ipython3",
   "version": "3.11.9"
  },
  "orig_nbformat": 4,
  "vscode": {
   "interpreter": {
    "hash": "8f59090b806211711d8ea6da25ee5b1ccb272a75a21b9536283520350d8dfda7"
   }
  }
 },
 "nbformat": 4,
 "nbformat_minor": 2
}
